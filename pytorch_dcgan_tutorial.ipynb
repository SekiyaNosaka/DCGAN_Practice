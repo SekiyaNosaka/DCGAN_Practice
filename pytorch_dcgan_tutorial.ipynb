{
 "cells": [
  {
   "cell_type": "code",
   "execution_count": null,
   "metadata": {},
   "outputs": [],
   "source": [
    "import torch\n",
    "import torchvision\n",
    "from torch import nn, optim\n",
    "from torch.utils.data import Dataset, DataLoader, TensorDataset\n",
    "from torchvision.datasets import ImageFolder\n",
    "from torchvision import transforms\n",
    "import tqdm\n",
    "import numpy as np\n",
    "import cv2\n",
    "import glob\n",
    "import matplotlib.pyplot as plt\n",
    "from statistics import mean"
   ]
  },
  {
   "cell_type": "code",
   "execution_count": null,
   "metadata": {},
   "outputs": [],
   "source": [
    "# データセットの準備\n",
    "wget http://www.robots.ox.ac.uk/~vgg/data/flowers/102/102flowers.tgz\n",
    "tar xf 102flowers.tgz\n",
    "mkdir oxford-102\n",
    "mkdir oxford-102/jpg\n",
    "mv jpg/*.jpg oxford-102/jpg"
   ]
  },
  {
   "cell_type": "code",
   "execution_count": null,
   "metadata": {},
   "outputs": [],
   "source": [
    "# DataSetとDataLoader\n",
    "img_data = ImageFolder('./oxford-102/',\n",
    "                       transform = transforms.Compose([\n",
    "                              transforms.Resize(80),\n",
    "                              transforms.CenterCrop(64),\n",
    "                              transforms.ToTensor()\n",
    "                       ]))\n",
    "batch_size = 64\n",
    "img_loader = DataLoader(img_data, batch_size = batch_size, shuffle = True)"
   ]
  },
  {
   "cell_type": "code",
   "execution_count": null,
   "metadata": {},
   "outputs": [],
   "source": [
    "nz = 100\n",
    "ngf = 32\n",
    "\n",
    "class GNet(nn.Module):\n",
    "  def __init__(self):\n",
    "    super().__init__()\n",
    "    self.main = nn.Sequential(\n",
    "        nn.ConvTranspose2d(nz, ngf * 8, 4, 1, 0, bias = False),\n",
    "        nn.BatchNorm2d(ngf * 8),\n",
    "        nn.ReLU(inplace = True),  # inplace -> 必要に応じて動作インプレースを行える(デフォルトはFalse)\n",
    "\n",
    "        nn.ConvTranspose2d(ngf * 8, ngf * 4, 4, 2, 1, bias = False),\n",
    "        nn.BatchNorm2d(ngf * 4),\n",
    "        nn.ReLU(inplace = True),\n",
    "\n",
    "        nn.ConvTranspose2d(ngf * 4, ngf * 2, 4, 2, 1, bias = False),\n",
    "        nn.BatchNorm2d(ngf * 2),\n",
    "        nn.ReLU(inplace = True),\n",
    "\n",
    "        nn.ConvTranspose2d(ngf * 2, ngf, 4, 2, 1, bias = False),\n",
    "        nn.BatchNorm2d(ngf),\n",
    "        nn.ReLU(inplace = True),\n",
    "\n",
    "        nn.ConvTranspose2d(ngf, 3, 4, 2, 1, bias = False),\n",
    "        nn.Tanh()\n",
    "    )\n",
    "\n",
    "  def forward(self, x):\n",
    "    x = self.main(x)\n",
    "    return x\n",
    "\n",
    "\n",
    "ndf = 32\n",
    "\n",
    "class DNet(nn.Module):\n",
    "  def __init__(self):\n",
    "    super().__init__()\n",
    "    self.main = nn.Sequential(\n",
    "        nn.Conv2d(3, ndf, 4, 2, 1, bias = False),\n",
    "        nn.LeakyReLU(0.2, inplace = True),\n",
    "        nn.Conv2d(ndf, ndf * 2, 4, 2, 1, bias = False),\n",
    "        nn.BatchNorm2d(ndf * 2),\n",
    "        nn.LeakyReLU(0.2, inplace = True),\n",
    "        nn.Conv2d(ndf * 2, ndf * 4, 4, 2, 1, bias = False),\n",
    "        nn.BatchNorm2d(ndf * 4),\n",
    "        nn.LeakyReLU(0.2, inplace = True),\n",
    "        nn.Conv2d(ndf * 4, ndf * 8, 4, 2, 1, bias = False),\n",
    "        nn.BatchNorm2d(ndf * 8),\n",
    "        nn.LeakyReLU(0.2, inplace = True),\n",
    "        nn.Conv2d(ndf * 8, 1, 4, 1, 0, bias = False)\n",
    "    )\n",
    "  \n",
    "  def forward(self, x):\n",
    "    x = self.main(x)\n",
    "    return x.squeeze()"
   ]
  },
  {
   "cell_type": "code",
   "execution_count": null,
   "metadata": {},
   "outputs": [],
   "source": [
    "d = DNet().to('cuda:0')\n",
    "g = GNet().to('cuda:0')\n",
    "\n",
    "# Adamのパラメータは元論文の提案値\n",
    "opt_d = optim.Adam(d.parameters(), lr = 0.0002, betas = (0.5, 0.999))\n",
    "opt_g = optim.Adam(g.parameters(), lr = 0.0002, betas = (0.5, 0.999))\n",
    "\n",
    "# クロスエントロピーを計算するための補助変数など\n",
    "ones = torch.ones(batch_size).to('cuda:0')\n",
    "zeros = torch.zeros(batch_size).to('cuda:0')\n",
    "loss_f = nn.BCEWithLogitsLoss()"
   ]
  },
  {
   "cell_type": "code",
   "execution_count": null,
   "metadata": {},
   "outputs": [],
   "source": [
    "# 訓練関数\n",
    "def train_dcgan(g, d, opt_g, opt_d, loader):\n",
    "  log_loss_g = []\n",
    "  log_loss_d = []\n",
    "\n",
    "  for real_img, _ in tqdm.tqdm(loader):\n",
    "    batch_len = len(real_img)\n",
    "    real_img = real_img.to('cuda:0')\n",
    "    z = torch.randn(batch_len, nz, 1, 1).to('cuda:0')\n",
    "    fake_img = g(z)\n",
    "    fake_img_tensor = fake_img.detach()\n",
    "\n",
    "    out = d(fake_img)\n",
    "    loss_g = loss_f(out, ones[: batch_len])\n",
    "    log_loss_g.append(loss_g.item())\n",
    "\n",
    "    d.zero_grad(), g.zero_grad()\n",
    "    loss_g.backward()\n",
    "    opt_g.step()\n",
    "\n",
    "    real_out = d(real_img)\n",
    "    loss_d_real = loss_f(real_out, ones[: batch_len])\n",
    "\n",
    "    fake_img = fake_img_tensor\n",
    "    \n",
    "    fake_out = d(fake_img)\n",
    "    loss_d_fake = loss_f(fake_out, zeros[: batch_len])\n",
    "\n",
    "    loss_d = loss_d_real + loss_d_fake\n",
    "    log_loss_d.append(loss_d.item())\n",
    "\n",
    "    d.zero_grad(), g.zero_grad()\n",
    "    loss_d.backward()\n",
    "    opt_d.step()\n",
    "  \n",
    "  return mean(log_loss_g), mean(log_loss_d)"
   ]
  },
  {
   "cell_type": "code",
   "execution_count": null,
   "metadata": {},
   "outputs": [],
   "source": [
    "# DCGANの訓練\n",
    "for epoch in tqdm.tqdm(range(100)):\n",
    "  train_dcgan(g, d, opt_g, opt_d, img_loader)"
   ]
  },
  {
   "cell_type": "code",
   "execution_count": null,
   "metadata": {},
   "outputs": [],
   "source": [
    "torch.save(g.state_dict(), './generate.prm', pickle_protocol=4)\n",
    "torch.save(d.state_dict(), './descriminator.prm', pickle_protocol=4)"
   ]
  },
  {
   "cell_type": "code",
   "execution_count": null,
   "metadata": {},
   "outputs": [],
   "source": [
    "# 適当に乱数生成して学習したモデルに流して可視化してみる\n",
    "fixed_generate = torch.randn(1, nz, 1, 1).to('cuda:0')\n",
    "generated_img = g(fixed_generate)\n",
    "\n",
    "import torchvision\n",
    "\n",
    "torchvision.utils.save_image(generated_img, 'hoge.png')"
   ]
  }
 ],
 "metadata": {
  "kernelspec": {
   "display_name": "Python 3",
   "language": "python",
   "name": "python3"
  },
  "language_info": {
   "codemirror_mode": {
    "name": "ipython",
    "version": 2
   },
   "file_extension": ".py",
   "mimetype": "text/x-python",
   "name": "python",
   "nbconvert_exporter": "python",
   "pygments_lexer": "ipython2",
   "version": "2.7.17"
  }
 },
 "nbformat": 4,
 "nbformat_minor": 2
}
